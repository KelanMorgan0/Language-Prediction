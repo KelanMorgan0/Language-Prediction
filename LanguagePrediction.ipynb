{
 "cells": [
  {
   "metadata": {},
   "cell_type": "markdown",
   "source": "# Imports",
   "id": "c0da0cf4ae243070"
  },
  {
   "metadata": {
    "collapsed": true,
    "ExecuteTime": {
     "end_time": "2025-02-18T17:58:50.540025Z",
     "start_time": "2025-02-18T17:58:50.531992Z"
    }
   },
   "cell_type": "code",
   "source": [
    "import pandas as pd\n",
    "from sklearn.utils import shuffle\n",
    "from sklearn.model_selection import train_test_split\n",
    "from sklearn.feature_extraction.text import CountVectorizer\n",
    "from sklearn.naive_bayes import MultinomialNB\n",
    "from sklearn.metrics import accuracy_score, classification_report"
   ],
   "id": "initial_id",
   "outputs": [],
   "execution_count": 29
  },
  {
   "metadata": {},
   "cell_type": "markdown",
   "source": [
    "# Load Dataset\n",
    "data received from https://tatoeba.org/"
   ],
   "id": "306f74b0afed9a96"
  },
  {
   "metadata": {
    "ExecuteTime": {
     "end_time": "2025-02-18T17:58:53.104494Z",
     "start_time": "2025-02-18T17:58:50.551469Z"
    }
   },
   "cell_type": "code",
   "source": [
    "eng_data = pd.read_csv(\"data/eng_sentences.tsv\", sep=\"\\t\", header=None)\n",
    "spa_data = pd.read_csv(\"data/spa_sentences.tsv\", sep=\"\\t\", header=None)\n",
    "\n",
    "data = pd.concat([eng_data, spa_data])"
   ],
   "id": "5b4c28fcd04d193a",
   "outputs": [],
   "execution_count": 30
  },
  {
   "metadata": {},
   "cell_type": "markdown",
   "source": [
    "# Data Pre-Processing\n",
    "- drop column 0\n",
    "- Name Columns\n",
    "- Make text data lowercase\n",
    "- Shuffle Data"
   ],
   "id": "4673d1a1fe9cb2fc"
  },
  {
   "metadata": {
    "ExecuteTime": {
     "end_time": "2025-02-18T17:58:54.624924Z",
     "start_time": "2025-02-18T17:58:53.119504Z"
    }
   },
   "cell_type": "code",
   "source": [
    "data = data.drop(columns=[0])\n",
    "data = data.rename(columns={1: 'Lang', 2: 'Text'})\n",
    "data['Text'] = data['Text'].str.lower()\n",
    "\n",
    "data = data.sample(frac=1).reset_index(drop=True)\n",
    "\n",
    "data"
   ],
   "id": "397b131ffa70b99b",
   "outputs": [
    {
     "data": {
      "text/plain": [
       "        Lang                                               Text\n",
       "0        spa                                    denunciémoslas.\n",
       "1        eng                   ziri knows what really happened.\n",
       "2        eng                                i run a tight ship.\n",
       "3        eng                     thank you for being my friend.\n",
       "4        eng  are tom and mary really any good at speaking f...\n",
       "...      ...                                                ...\n",
       "2376901  eng                           sami hates this manager.\n",
       "2376902  eng                     he's expecting that, isn't he?\n",
       "2376903  spa                          este calor es asfixiante.\n",
       "2376904  eng                         tom and mary despise john.\n",
       "2376905  spa             no tengo una oficina en este edificio.\n",
       "\n",
       "[2376906 rows x 2 columns]"
      ],
      "text/html": [
       "<div>\n",
       "<style scoped>\n",
       "    .dataframe tbody tr th:only-of-type {\n",
       "        vertical-align: middle;\n",
       "    }\n",
       "\n",
       "    .dataframe tbody tr th {\n",
       "        vertical-align: top;\n",
       "    }\n",
       "\n",
       "    .dataframe thead th {\n",
       "        text-align: right;\n",
       "    }\n",
       "</style>\n",
       "<table border=\"1\" class=\"dataframe\">\n",
       "  <thead>\n",
       "    <tr style=\"text-align: right;\">\n",
       "      <th></th>\n",
       "      <th>Lang</th>\n",
       "      <th>Text</th>\n",
       "    </tr>\n",
       "  </thead>\n",
       "  <tbody>\n",
       "    <tr>\n",
       "      <th>0</th>\n",
       "      <td>spa</td>\n",
       "      <td>denunciémoslas.</td>\n",
       "    </tr>\n",
       "    <tr>\n",
       "      <th>1</th>\n",
       "      <td>eng</td>\n",
       "      <td>ziri knows what really happened.</td>\n",
       "    </tr>\n",
       "    <tr>\n",
       "      <th>2</th>\n",
       "      <td>eng</td>\n",
       "      <td>i run a tight ship.</td>\n",
       "    </tr>\n",
       "    <tr>\n",
       "      <th>3</th>\n",
       "      <td>eng</td>\n",
       "      <td>thank you for being my friend.</td>\n",
       "    </tr>\n",
       "    <tr>\n",
       "      <th>4</th>\n",
       "      <td>eng</td>\n",
       "      <td>are tom and mary really any good at speaking f...</td>\n",
       "    </tr>\n",
       "    <tr>\n",
       "      <th>...</th>\n",
       "      <td>...</td>\n",
       "      <td>...</td>\n",
       "    </tr>\n",
       "    <tr>\n",
       "      <th>2376901</th>\n",
       "      <td>eng</td>\n",
       "      <td>sami hates this manager.</td>\n",
       "    </tr>\n",
       "    <tr>\n",
       "      <th>2376902</th>\n",
       "      <td>eng</td>\n",
       "      <td>he's expecting that, isn't he?</td>\n",
       "    </tr>\n",
       "    <tr>\n",
       "      <th>2376903</th>\n",
       "      <td>spa</td>\n",
       "      <td>este calor es asfixiante.</td>\n",
       "    </tr>\n",
       "    <tr>\n",
       "      <th>2376904</th>\n",
       "      <td>eng</td>\n",
       "      <td>tom and mary despise john.</td>\n",
       "    </tr>\n",
       "    <tr>\n",
       "      <th>2376905</th>\n",
       "      <td>spa</td>\n",
       "      <td>no tengo una oficina en este edificio.</td>\n",
       "    </tr>\n",
       "  </tbody>\n",
       "</table>\n",
       "<p>2376906 rows × 2 columns</p>\n",
       "</div>"
      ]
     },
     "execution_count": 31,
     "metadata": {},
     "output_type": "execute_result"
    }
   ],
   "execution_count": 31
  },
  {
   "metadata": {},
   "cell_type": "markdown",
   "source": [
    "# Split Training and Test Data\n",
    "20% to test the accuracy\n",
    "\n",
    "80% for training the model"
   ],
   "id": "e67f223b98aa10e8"
  },
  {
   "metadata": {
    "ExecuteTime": {
     "end_time": "2025-02-18T19:05:10.375420Z",
     "start_time": "2025-02-18T19:05:09.887819Z"
    }
   },
   "cell_type": "code",
   "source": "X_train, X_test, y_train, y_test = train_test_split(data['Text'], data['Lang'], test_size=0.2)",
   "id": "8885773905aad8fb",
   "outputs": [],
   "execution_count": 33
  },
  {
   "metadata": {},
   "cell_type": "markdown",
   "source": [
    "# Vectorize the text for the classifier\n",
    "This puts the text into a format that can be used with Naive Bayes classifiers"
   ],
   "id": "6662a82370d139cd"
  },
  {
   "metadata": {},
   "cell_type": "code",
   "outputs": [],
   "execution_count": null,
   "source": [
    "vectorizedText = CountVectorizer(analyzer='char', ngram_range=(2, 3))  # Use character n-grams\n",
    "X_train = vectorizedText.fit_transform(X_train)\n",
    "X_test = vectorizedText.transform(X_test)"
   ],
   "id": "7bb5b0982d79202e"
  }
 ],
 "metadata": {
  "kernelspec": {
   "display_name": "Python 3",
   "language": "python",
   "name": "python3"
  },
  "language_info": {
   "codemirror_mode": {
    "name": "ipython",
    "version": 2
   },
   "file_extension": ".py",
   "mimetype": "text/x-python",
   "name": "python",
   "nbconvert_exporter": "python",
   "pygments_lexer": "ipython2",
   "version": "2.7.6"
  }
 },
 "nbformat": 4,
 "nbformat_minor": 5
}
